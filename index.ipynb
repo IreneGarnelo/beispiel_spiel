{
 "cells": [
  {
   "cell_type": "markdown",
   "metadata": {},
   "source": [
    "# Ein Beispiel mit pygames"
   ]
  },
  {
   "cell_type": "markdown",
   "metadata": {},
   "source": [
    "In diesem Notebook wird ein kleines pygame erstellt. In dem Spiel kann der User ein schwarzes Rechteck bewegen. Probiere den Code erstmal so aus und probiere danach, Parameter zu verändern oder auch das Verhalten des Rechtecks."
   ]
  },
  {
   "cell_type": "markdown",
   "metadata": {},
   "source": [
    "## Importieren von Libraries und Spiel initiieren"
   ]
  },
  {
   "cell_type": "code",
   "execution_count": 2,
   "metadata": {
    "collapsed": true
   },
   "outputs": [],
   "source": [
    "import pygame\n",
    "import sys\n",
    "\n",
    "pygame.init()"
   ]
  },
  {
   "cell_type": "markdown",
   "metadata": {},
   "source": [
    "## Spiel Initiieren und Parameter setzen"
   ]
  },
  {
   "cell_type": "code",
   "execution_count": 3,
   "metadata": {
    "collapsed": true
   },
   "outputs": [],
   "source": [
    "pygame.init()\n",
    "\n",
    "# Fenster-Dimensionen\n",
    "SCREEN_WIDTH = 800\n",
    "SCREEN_HEIGHT = 600\n",
    "\n",
    "# Farben\n",
    "WHITE = (255, 255, 255)\n",
    "BLACK = (0, 0, 0)\n",
    "\n",
    "# Spieler-Parameter\n",
    "# Player\n",
    "player_size = 50\n",
    "player_pos = [SCREEN_WIDTH // 2, SCREEN_HEIGHT // 2] # Der Spieler beginnt in der Mitte des Fensters\n",
    "player_speed = 5"
   ]
  },
  {
   "cell_type": "markdown",
   "metadata": {},
   "source": [
    "## Fenster und Titel"
   ]
  },
  {
   "cell_type": "code",
   "execution_count": 4,
   "metadata": {
    "collapsed": true
   },
   "outputs": [],
   "source": [
    "# Fenster initiieren\n",
    "screen = pygame.display.set_mode((SCREEN_WIDTH, SCREEN_HEIGHT))\n",
    "\n",
    "# Fenstertitel\n",
    "pygame.display.set_caption(\"Beispiel-Spiel\")"
   ]
  },
  {
   "cell_type": "markdown",
   "metadata": {},
   "source": [
    "## Spiel-Schleife"
   ]
  },
  {
   "cell_type": "code",
   "execution_count": 5,
   "metadata": {
    "collapsed": false
   },
   "outputs": [],
   "source": [
    "running = True\n",
    "while running:\n",
    "    # Für jedes \"event\" (Interaktion) passiert wird ein Durchlauf der for-Schleife gemacht\n",
    "    for event in pygame.event.get(): \n",
    "        # Falls das event das schließen des Spieles ist, wird das Spiel beendet\n",
    "        if event.type == pygame.QUIT:\n",
    "            running = False\n",
    "\n",
    "    # In diesem Spiel sind events wenn der Spieler die Pfeiltasten drückt, hier wird\n",
    "    # mit if-statements erst abgefragt welche Taste gedrückt wurde und entsprechend\n",
    "    # in diese Richtung bewegt (solange der Spieler noch nicht am Rande des Fensrers\n",
    "    # angekommen ist)\n",
    "    keys = pygame.key.get_pressed()\n",
    "    if keys[pygame.K_LEFT] and player_pos[0] > 0:\n",
    "        player_pos[0] -= player_speed\n",
    "    if keys[pygame.K_RIGHT] and player_pos[0] < SCREEN_WIDTH - player_size:\n",
    "        player_pos[0] += player_speed\n",
    "    if keys[pygame.K_UP] and player_pos[1] > 0:\n",
    "        player_pos[1] -= player_speed\n",
    "    if keys[pygame.K_DOWN] and player_pos[1] < SCREEN_HEIGHT - player_size:\n",
    "        player_pos[1] += player_speed\n",
    "\n",
    "    # Nun wird das Bild, welches der User sieht upgedatet\n",
    "    # Dazu wird als erstes der Hintergrund gezeichnet (in diesem Fall komplett weiß)\n",
    "    screen.fill(WHITE)\n",
    "\n",
    "    # Und dann der Spieler eingemalt (in diesem Fall ein schwarzes Rechteck)\n",
    "    pygame.draw.rect(screen, BLACK, (player_pos[0], player_pos[1], player_size, player_size))\n",
    "\n",
    "    # Nachdem alle objecte aktualisiert wurden wird tatsächlich das Fenster geupdated\n",
    "    pygame.display.flip()\n",
    "\n",
    "# Quit pygame\n",
    "pygame.quit()\n",
    "sys.exit()"
   ]
  }
 ],
 "metadata": {
  "kernelspec": {
   "display_name": "Python 3",
   "language": "python",
   "name": "python3"
  },
  "language_info": {
   "codemirror_mode": {
    "name": "ipython",
    "version": 3
   },
   "file_extension": ".py",
   "mimetype": "text/x-python",
   "name": "python",
   "nbconvert_exporter": "python",
   "pygments_lexer": "ipython3",
   "version": "3.6.1"
  }
 },
 "nbformat": 4,
 "nbformat_minor": 2
}
